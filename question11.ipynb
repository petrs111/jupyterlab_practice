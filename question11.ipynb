{
 "cells": [
  {
   "cell_type": "markdown",
   "id": "4837c13f-73d4-4473-9803-09bfea5547af",
   "metadata": {},
   "source": [
    "<h1> Petr Shuklin</h1> Notebook for assignment 7."
   ]
  },
  {
   "cell_type": "code",
   "execution_count": 1,
   "id": "0e985f88-94a6-45a9-9f29-1fa0c177e5f8",
   "metadata": {},
   "outputs": [
    {
     "data": {
      "text/plain": [
       "5.0"
      ]
     },
     "execution_count": 1,
     "metadata": {},
     "output_type": "execute_result"
    }
   ],
   "source": [
    "def compute_mean(numbers):\n",
    "    total = 0\n",
    "    for value in numbers:\n",
    "        total = total + value\n",
    "    return total / (len(numbers)) \n",
    "\n",
    "compute_mean([2,4,6,8])"
   ]
  },
  {
   "cell_type": "markdown",
   "id": "869c367d-85e6-46bb-8da4-4910ada155d3",
   "metadata": {},
   "source": [
    "the code cell above defines a function 'compute_mean' that takes a list of numbers as an argument 'numbers'. The function adds the sum total of the numbers in the list, and divides the sum by the length of the list 'numbers' - i.e. by the number of elements in the given list. the function is called with 'compute_mean([2,4,6,8]), printing the output below: 5.0\n",
    "\n",
    "The mathematical mean formula is:\n",
    "$\\overline{x} = \\frac{1}{n} \\sum_{i=i}^{n} x_{i} = \\frac{1}{n}\\left(x_{1}+\\cdots+x_{n}\\right)$\n"
   ]
  }
 ],
 "metadata": {
  "kernelspec": {
   "display_name": "Python [conda env:assignment]",
   "language": "python",
   "name": "conda-env-assignment-py"
  },
  "language_info": {
   "codemirror_mode": {
    "name": "ipython",
    "version": 3
   },
   "file_extension": ".py",
   "mimetype": "text/x-python",
   "name": "python",
   "nbconvert_exporter": "python",
   "pygments_lexer": "ipython3",
   "version": "3.12.2"
  }
 },
 "nbformat": 4,
 "nbformat_minor": 5
}
