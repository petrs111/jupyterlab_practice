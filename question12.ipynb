{
 "cells": [
  {
   "cell_type": "markdown",
   "id": "71487390-2d2f-4595-9546-cb9eee9d275a",
   "metadata": {},
   "source": [
    "We are currently working in the following directory:"
   ]
  },
  {
   "cell_type": "code",
   "execution_count": 1,
   "id": "4b914b70-8352-42b0-9daa-9e7f8f74ddac",
   "metadata": {},
   "outputs": [
    {
     "name": "stdout",
     "output_type": "stream",
     "text": [
      "/Users/petrshuklin/jupyterlab_practice\n"
     ]
    }
   ],
   "source": [
    "!pwd"
   ]
  },
  {
   "cell_type": "markdown",
   "id": "752bf3d7-c286-47c9-8474-d83b7766e2a3",
   "metadata": {},
   "source": [
    "To time how long it takes to run a Python cell, we could use the` `timeit` `command inside a cell as is shown below:<code> Followed by the proper use of the `timeit` command to time the following loop:"
   ]
  },
  {
   "cell_type": "code",
   "execution_count": 2,
   "id": "aaf1636a-c067-464d-9724-2a8aa76ce174",
   "metadata": {},
   "outputs": [
    {
     "name": "stdout",
     "output_type": "stream",
     "text": [
      "24.5 ms ± 149 µs per loop (mean ± std. dev. of 7 runs, 10 loops each)\n"
     ]
    }
   ],
   "source": [
    "%%timeit\n",
    "for i in range(1_000_000):\n",
    "    i**2"
   ]
  }
 ],
 "metadata": {
  "kernelspec": {
   "display_name": "Python [conda env:assignment]",
   "language": "python",
   "name": "conda-env-assignment-py"
  },
  "language_info": {
   "codemirror_mode": {
    "name": "ipython",
    "version": 3
   },
   "file_extension": ".py",
   "mimetype": "text/x-python",
   "name": "python",
   "nbconvert_exporter": "python",
   "pygments_lexer": "ipython3",
   "version": "3.12.2"
  }
 },
 "nbformat": 4,
 "nbformat_minor": 5
}
